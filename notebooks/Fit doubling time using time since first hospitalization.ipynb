{
 "cells": [
  {
   "cell_type": "markdown",
   "metadata": {},
   "source": [
    "# Days since first hospitalization\n",
    "\n",
    "- Fit the doubling time based on all other input parameters by asking the user for 1 additional input: the number of days that have passed since the first hospitalization of a COVID19 patient.\n",
    "- Allows the user to line up historical predicted hospitalizations with actuals.\n",
    "- Properly seeds S, I, and R at current day by starting back at the time of the first hospitalization.\n",
    "- Fitting process has the advantage of being _simple_, only requiring 1 additional input from the user."
   ]
  },
  {
   "cell_type": "code",
   "execution_count": 1,
   "metadata": {},
   "outputs": [
    {
     "name": "stdout",
     "output_type": "stream",
     "text": [
      "Populating the interactive namespace from numpy and matplotlib\n"
     ]
    }
   ],
   "source": [
    "%pylab inline\n",
    "import pandas as pd\n",
    "from typing import Dict, Generator, Tuple"
   ]
  },
  {
   "cell_type": "code",
   "execution_count": 2,
   "metadata": {},
   "outputs": [],
   "source": [
    "def sir(\n",
    "    s: float, i: float, r: float, beta: float, gamma: float, n: float\n",
    ") -> Tuple[float, float, float]:\n",
    "    \"\"\"The SIR model, one time step.\"\"\"\n",
    "    s_n = (-beta * s * i) + s\n",
    "    i_n = (beta * s * i - gamma * i) + i\n",
    "    r_n = gamma * i + r\n",
    "    if s_n < 0.0:\n",
    "        s_n = 0.0\n",
    "    if i_n < 0.0:\n",
    "        i_n = 0.0\n",
    "    if r_n < 0.0:\n",
    "        r_n = 0.0\n",
    "\n",
    "    scale = n / (s_n + i_n + r_n)\n",
    "    return s_n * scale, i_n * scale, r_n * scale\n",
    "\n",
    "\n",
    "def gen_sir(\n",
    "    s: float, i: float, r: float, beta: float, gamma: float, n_days: int,\n",
    ") -> Generator[Tuple[float, float, float], None, None]:\n",
    "    \"\"\"Simulate SIR model forward in time yielding tuples.\"\"\"\n",
    "    s, i, r = (float(v) for v in (s, i, r))\n",
    "    n = s + i + r\n",
    "    for d in range(n_days + 1):\n",
    "        yield d, s, i, r\n",
    "        s, i, r = sir(s, i, r, beta, gamma, n)\n",
    "\n",
    "\n",
    "def sim_sir_df(\n",
    "    s: float, i: float, r: float, beta: float, gamma: float, n_days\n",
    ") -> pd.DataFrame:\n",
    "    \"\"\"Simulate the SIR model forward in time.\"\"\"\n",
    "    return pd.DataFrame(\n",
    "        data=gen_sir(s, i, r, beta, gamma, n_days),\n",
    "        columns=(\"day\", \"susceptible\", \"infected\", \"recovered\"),\n",
    "    )\n",
    "\n",
    "\n",
    "def get_dispositions(\n",
    "    patients: np.ndarray,\n",
    "    rates: Dict[str, float],\n",
    "    market_share: float,\n",
    ") -> Dict[str, np.ndarray]:\n",
    "    \"\"\"Get dispositions of patients adjusted by rate and market_share.\"\"\"\n",
    "    return {\n",
    "        key: patients * rate * market_share\n",
    "        for key, rate in rates.items()\n",
    "    }\n",
    "\n",
    "\n",
    "def build_admits_df(n_days, dispositions) -> pd.DataFrame:\n",
    "    \"\"\"Build admits dataframe from Parameters and Model.\"\"\"\n",
    "    days = np.arange(0, n_days + 1)\n",
    "    projection = pd.DataFrame({\n",
    "        \"day\": days,\n",
    "        **dispositions,\n",
    "    })\n",
    "    # New cases\n",
    "    admits_df = projection.iloc[:-1, :] - projection.shift(1)\n",
    "    admits_df[\"day\"] = range(admits_df.shape[0])\n",
    "    return admits_df\n",
    "\n",
    "\n",
    "def build_census_df(\n",
    "    admits_df: pd.DataFrame, lengths_of_stay\n",
    ") -> pd.DataFrame:\n",
    "    \"\"\"ALOS for each category of COVID-19 case (total guesses)\"\"\"\n",
    "    n_days = np.shape(admits_df)[0]\n",
    "    census_dict = {}\n",
    "    for key, los in lengths_of_stay.items():\n",
    "        census = (\n",
    "            admits_df.cumsum().iloc[:-los, :]\n",
    "            - admits_df.cumsum().shift(los).fillna(0)\n",
    "        ).apply(np.ceil)\n",
    "        census_dict[key] = census[key]\n",
    "\n",
    "    census_df = pd.DataFrame(census_dict)\n",
    "    census_df[\"day\"] = census_df.index\n",
    "    census_df = census_df[[\"day\", *lengths_of_stay.keys()]]\n",
    "    census_df = census_df.head(n_days)\n",
    "    return census_df\n"
   ]
  },
  {
   "cell_type": "code",
   "execution_count": 142,
   "metadata": {},
   "outputs": [],
   "source": [
    "rates = {\"hospitalized\": 0.025,\n",
    "         \"icu\": 0.0075,\n",
    "         \"ventilated\": 0.005,\n",
    "}\n",
    "\n",
    "lengths_of_stay = {\n",
    "        \"hospitalized\": 7,\n",
    "         \"icu\": 9,\n",
    "         \"ventilated\": 10,\n",
    "}\n",
    "\n",
    "population_size = 4119405\n",
    "n_days_since_first_hospitalized = 20\n",
    "current_hospitalized = 32\n",
    "\n",
    "def run_projection(doubling_time):\n",
    "    intrinsic_growth_rate = 2**(1/float(doubling_time)) - 1\n",
    "\n",
    "    recovery_days = 14.0\n",
    "    market_share = 0.15\n",
    "    initial_i = 1/rates['hospitalized']/market_share\n",
    "    S, I, R = population_size-initial_i, initial_i, 0\n",
    "    # mean recovery rate, gamma, (in 1/days).\n",
    "    gamma = 1/recovery_days\n",
    "\n",
    "    # Contact rate, beta\n",
    "    beta = (intrinsic_growth_rate+gamma)/S # {rate based on doubling time} / {initial S}\n",
    "\n",
    "    n_days = 100\n",
    "    \n",
    "    raw_df = sim_sir_df(S,I,R,beta,gamma,n_days)\n",
    "    i_dict_v = get_dispositions(raw_df.infected, rates, market_share)\n",
    "    r_dict_v = get_dispositions(raw_df.recovered, rates, market_share)\n",
    "\n",
    "    dispositions = {\n",
    "        key: value + r_dict_v[key]\n",
    "        for key, value in i_dict_v.items()\n",
    "    }\n",
    "\n",
    "    dispositions_df = pd.DataFrame(dispositions)\n",
    "    admits_df = admits_df = build_admits_df(n_days, dispositions)\n",
    "    census_df = build_census_df(admits_df, lengths_of_stay)\n",
    "    return raw_df, admits_df, census_df\n",
    "\n",
    "def obs_pred_diff(doubling_time):\n",
    "    raw_df, admits_df, census_df = run_projection(doubling_time)\n",
    "    \n",
    "    ## get the predicted number hospitalized today\n",
    "    pred_current_hospitalized = census_df['hospitalized'].loc[n_days_since_first_hospitalized]\n",
    "    \n",
    "    ## compare against the actual (user inputed) number \n",
    "    ## squared difference is the loss to be optimized\n",
    "    return (current_hospitalized - pred_current_hospitalized)**2\n",
    "\n",
    "\n",
    "def obs_pred_diff_days_since(n_days_since_first_hospitalized):\n",
    "    raw_df, admits_df, census_df = run_projection(doubling_time)\n",
    "    \n",
    "    ## get the predicted number hospitalized today\n",
    "    pred_current_hospitalized = census_df['hospitalized'].loc[n_days_since_first_hospitalized]\n",
    "    \n",
    "    ## compare against the actual (user inputed) number \n",
    "    ## squared difference is the loss to be optimized\n",
    "    return (current_hospitalized - pred_current_hospitalized)**2"
   ]
  },
  {
   "cell_type": "markdown",
   "metadata": {},
   "source": [
    "### Either fit `n_days_since_first_hospitalized` given a `doubling_time`:"
   ]
  },
  {
   "cell_type": "code",
   "execution_count": 145,
   "metadata": {},
   "outputs": [
    {
     "name": "stdout",
     "output_type": "stream",
     "text": [
      "1 961.0\n",
      "2 961.0\n",
      "3 961.0\n",
      "4 900.0\n",
      "5 900.0\n",
      "6 841.0\n",
      "7 784.0\n",
      "8 784.0\n",
      "9 729.0\n",
      "10 676.0\n",
      "11 625.0\n",
      "12 576.0\n",
      "13 484.0\n",
      "14 441.0\n",
      "15 324.0\n",
      "16 256.0\n",
      "17 169.0\n",
      "18 100.0\n",
      "19 36.0\n",
      "20 1.0\n",
      "21 25.0\n",
      "22 144.0\n",
      "23 400.0\n",
      "24 900.0\n",
      "25 1764.0\n",
      "26 3025.0\n",
      "27 5041.0\n",
      "28 8281.0\n",
      "29 12769.0\n"
     ]
    }
   ],
   "source": [
    "doubling_time = 4.0\n",
    "for ds in range(1,30):\n",
    "    print(ds, obs_pred_diff_days_since(ds))"
   ]
  },
  {
   "cell_type": "markdown",
   "metadata": {},
   "source": [
    "### Or fit `doubling_time` given `n_days_since_first_hospitalized`:"
   ]
  },
  {
   "cell_type": "code",
   "execution_count": 133,
   "metadata": {},
   "outputs": [
    {
     "name": "stdout",
     "output_type": "stream",
     "text": [
      "1.0 76650025.0\n",
      "1.25 173949721.0\n",
      "1.5 49505296.0\n",
      "1.75 6370576.0\n",
      "2.0 994009.0\n",
      "2.25 207025.0\n",
      "2.5 53824.0\n",
      "2.75 16129.0\n",
      "3.0 5041.0\n",
      "3.25 1600.0\n",
      "3.5 400.0\n",
      "3.75 64.0\n",
      "4.0 1.0\n",
      "4.25 49.0\n",
      "4.5 121.0\n",
      "4.75 196.0\n",
      "5.0 289.0\n",
      "5.25 361.0\n",
      "5.5 400.0\n",
      "5.75 484.0\n",
      "6.0 529.0\n",
      "6.25 576.0\n",
      "6.5 576.0\n",
      "6.75 625.0\n",
      "7.0 625.0\n",
      "7.25 676.0\n",
      "7.5 676.0\n",
      "7.75 729.0\n",
      "8.0 729.0\n",
      "8.25 729.0\n",
      "8.5 729.0\n",
      "8.75 784.0\n",
      "9.0 784.0\n",
      "9.25 784.0\n",
      "9.5 784.0\n",
      "9.75 784.0\n",
      "10.0 784.0\n",
      "10.25 841.0\n",
      "10.5 841.0\n",
      "10.75 841.0\n",
      "11.0 841.0\n"
     ]
    }
   ],
   "source": [
    "for dt in np.linspace(1,11,21):\n",
    "    print(dt, obs_pred_diff(dt))"
   ]
  },
  {
   "cell_type": "markdown",
   "metadata": {},
   "source": [
    "Brut force optimization, but could be implemented however. Just need to minimize the `obs_pred_diff` as a function of `doubling_times`"
   ]
  },
  {
   "cell_type": "code",
   "execution_count": 134,
   "metadata": {},
   "outputs": [
    {
     "data": {
      "text/plain": [
       "4.0"
      ]
     },
     "execution_count": 134,
     "metadata": {},
     "output_type": "execute_result"
    }
   ],
   "source": [
    "doubling_times = np.linspace(1,15,29)\n",
    "loss = np.array([obs_pred_diff(dt) for dt in doubling_times])\n",
    "fitted_doubling_time = doubling_times[loss.argmin()]\n",
    "fitted_doubling_time"
   ]
  },
  {
   "cell_type": "markdown",
   "metadata": {},
   "source": [
    "Then you can run the projection starting at the fitted value. This gives you a projection that starts from the day of the first hospitalization. We'll subtract off `n_days_since_first_hospitalized` to make day 0 be today."
   ]
  },
  {
   "cell_type": "code",
   "execution_count": 135,
   "metadata": {},
   "outputs": [],
   "source": [
    "raw_df, admits_df, census_df = run_projection(fitted_doubling_time)\n",
    "raw_df['day'] = raw_df['day'] - n_days_since_first_hospitalized\n",
    "admits_df['day'] = admits_df['day'] - n_days_since_first_hospitalized\n",
    "census_df['day'] = census_df['day'] - n_days_since_first_hospitalized"
   ]
  },
  {
   "cell_type": "code",
   "execution_count": 136,
   "metadata": {},
   "outputs": [
    {
     "data": {
      "text/plain": [
       "<matplotlib.axes._subplots.AxesSubplot at 0x122a4da20>"
      ]
     },
     "execution_count": 136,
     "metadata": {},
     "output_type": "execute_result"
    },
    {
     "data": {
      "image/png": "[encoded data removed]",
      "text/plain": [
       "<Figure size 432x288 with 1 Axes>"
      ]
     },
     "metadata": {
      "needs_background": "light"
     },
     "output_type": "display_data"
    }
   ],
   "source": [
    "raw_df.set_index('day').plot()"
   ]
  },
  {
   "cell_type": "code",
   "execution_count": 137,
   "metadata": {},
   "outputs": [
    {
     "data": {
      "text/plain": [
       "<matplotlib.axes._subplots.AxesSubplot at 0x122b3ecc0>"
      ]
     },
     "execution_count": 137,
     "metadata": {},
     "output_type": "execute_result"
    },
    {
     "data": {
      "image/png": "[encoded data removed]",
      "text/plain": [
       "<Figure size 432x288 with 1 Axes>"
      ]
     },
     "metadata": {
      "needs_background": "light"
     },
     "output_type": "display_data"
    }
   ],
   "source": [
    "admits_df.set_index('day').plot()"
   ]
  },
  {
   "cell_type": "code",
   "execution_count": 138,
   "metadata": {},
   "outputs": [],
   "source": [
    "actual_hsp = [np.nan,\n",
    "1,\n",
    "1,\n",
    "1,\n",
    "1,\n",
    "1,\n",
    "2,\n",
    "2,\n",
    "2,\n",
    "2,\n",
    "4,\n",
    "4,\n",
    "7,\n",
    "6,\n",
    "8,\n",
    "13,\n",
    "13,\n",
    "15,]"
   ]
  },
  {
   "cell_type": "code",
   "execution_count": 139,
   "metadata": {},
   "outputs": [],
   "source": [
    "actual_hsp_array = np.array(actual_hsp + [np.nan for i in range(census_df.shape[0] - len(actual_hsp))]) \n",
    "census_df['actual_hospitalized'] = actual_hsp_array"
   ]
  },
  {
   "cell_type": "code",
   "execution_count": 140,
   "metadata": {},
   "outputs": [
    {
     "data": {
      "text/plain": [
       "<matplotlib.axes._subplots.AxesSubplot at 0x1229b6e48>"
      ]
     },
     "execution_count": 140,
     "metadata": {},
     "output_type": "execute_result"
    },
    {
     "data": {
      "image/png": "[encoded data removed]",
      "text/plain": [
       "<Figure size 432x288 with 1 Axes>"
      ]
     },
     "metadata": {
      "needs_background": "light"
     },
     "output_type": "display_data"
    }
   ],
   "source": [
    "census_df[['hospitalized', 'actual_hospitalized']].head(25).plot()"
   ]
  },
  {
   "cell_type": "code",
   "execution_count": 73,
   "metadata": {},
   "outputs": [
    {
     "data": {
      "text/html": [
       "<div>\n",
       "<style scoped>\n",
       "    .dataframe tbody tr th:only-of-type {\n",
       "        vertical-align: middle;\n",
       "    }\n",
       "\n",
       "    .dataframe tbody tr th {\n",
       "        vertical-align: top;\n",
       "    }\n",
       "\n",
       "    .dataframe thead th {\n",
       "        text-align: right;\n",
       "    }\n",
       "</style>\n",
       "<table border=\"1\" class=\"dataframe\">\n",
       "  <thead>\n",
       "    <tr style=\"text-align: right;\">\n",
       "      <th></th>\n",
       "      <th>hospitalized</th>\n",
       "      <th>icu</th>\n",
       "      <th>ventilated</th>\n",
       "      <th>actual_hospitalized</th>\n",
       "    </tr>\n",
       "    <tr>\n",
       "      <th>day</th>\n",
       "      <th></th>\n",
       "      <th></th>\n",
       "      <th></th>\n",
       "      <th></th>\n",
       "    </tr>\n",
       "  </thead>\n",
       "  <tbody>\n",
       "    <tr>\n",
       "      <th>-17</th>\n",
       "      <td>NaN</td>\n",
       "      <td>NaN</td>\n",
       "      <td>NaN</td>\n",
       "      <td>NaN</td>\n",
       "    </tr>\n",
       "    <tr>\n",
       "      <th>-16</th>\n",
       "      <td>1.0</td>\n",
       "      <td>1.0</td>\n",
       "      <td>1.0</td>\n",
       "      <td>1.0</td>\n",
       "    </tr>\n",
       "    <tr>\n",
       "      <th>-15</th>\n",
       "      <td>1.0</td>\n",
       "      <td>1.0</td>\n",
       "      <td>1.0</td>\n",
       "      <td>1.0</td>\n",
       "    </tr>\n",
       "    <tr>\n",
       "      <th>-14</th>\n",
       "      <td>1.0</td>\n",
       "      <td>1.0</td>\n",
       "      <td>1.0</td>\n",
       "      <td>1.0</td>\n",
       "    </tr>\n",
       "    <tr>\n",
       "      <th>-13</th>\n",
       "      <td>2.0</td>\n",
       "      <td>1.0</td>\n",
       "      <td>1.0</td>\n",
       "      <td>1.0</td>\n",
       "    </tr>\n",
       "    <tr>\n",
       "      <th>-12</th>\n",
       "      <td>2.0</td>\n",
       "      <td>1.0</td>\n",
       "      <td>1.0</td>\n",
       "      <td>1.0</td>\n",
       "    </tr>\n",
       "    <tr>\n",
       "      <th>-11</th>\n",
       "      <td>3.0</td>\n",
       "      <td>1.0</td>\n",
       "      <td>1.0</td>\n",
       "      <td>2.0</td>\n",
       "    </tr>\n",
       "    <tr>\n",
       "      <th>-10</th>\n",
       "      <td>3.0</td>\n",
       "      <td>1.0</td>\n",
       "      <td>1.0</td>\n",
       "      <td>2.0</td>\n",
       "    </tr>\n",
       "    <tr>\n",
       "      <th>-9</th>\n",
       "      <td>4.0</td>\n",
       "      <td>2.0</td>\n",
       "      <td>1.0</td>\n",
       "      <td>2.0</td>\n",
       "    </tr>\n",
       "    <tr>\n",
       "      <th>-8</th>\n",
       "      <td>4.0</td>\n",
       "      <td>2.0</td>\n",
       "      <td>1.0</td>\n",
       "      <td>2.0</td>\n",
       "    </tr>\n",
       "    <tr>\n",
       "      <th>-7</th>\n",
       "      <td>5.0</td>\n",
       "      <td>2.0</td>\n",
       "      <td>2.0</td>\n",
       "      <td>4.0</td>\n",
       "    </tr>\n",
       "    <tr>\n",
       "      <th>-6</th>\n",
       "      <td>6.0</td>\n",
       "      <td>2.0</td>\n",
       "      <td>2.0</td>\n",
       "      <td>4.0</td>\n",
       "    </tr>\n",
       "    <tr>\n",
       "      <th>-5</th>\n",
       "      <td>6.0</td>\n",
       "      <td>3.0</td>\n",
       "      <td>2.0</td>\n",
       "      <td>7.0</td>\n",
       "    </tr>\n",
       "    <tr>\n",
       "      <th>-4</th>\n",
       "      <td>7.0</td>\n",
       "      <td>3.0</td>\n",
       "      <td>2.0</td>\n",
       "      <td>6.0</td>\n",
       "    </tr>\n",
       "    <tr>\n",
       "      <th>-3</th>\n",
       "      <td>9.0</td>\n",
       "      <td>3.0</td>\n",
       "      <td>2.0</td>\n",
       "      <td>8.0</td>\n",
       "    </tr>\n",
       "    <tr>\n",
       "      <th>-2</th>\n",
       "      <td>10.0</td>\n",
       "      <td>4.0</td>\n",
       "      <td>3.0</td>\n",
       "      <td>13.0</td>\n",
       "    </tr>\n",
       "    <tr>\n",
       "      <th>-1</th>\n",
       "      <td>12.0</td>\n",
       "      <td>4.0</td>\n",
       "      <td>3.0</td>\n",
       "      <td>13.0</td>\n",
       "    </tr>\n",
       "    <tr>\n",
       "      <th>0</th>\n",
       "      <td>13.0</td>\n",
       "      <td>5.0</td>\n",
       "      <td>4.0</td>\n",
       "      <td>15.0</td>\n",
       "    </tr>\n",
       "    <tr>\n",
       "      <th>1</th>\n",
       "      <td>16.0</td>\n",
       "      <td>6.0</td>\n",
       "      <td>4.0</td>\n",
       "      <td>NaN</td>\n",
       "    </tr>\n",
       "    <tr>\n",
       "      <th>2</th>\n",
       "      <td>18.0</td>\n",
       "      <td>6.0</td>\n",
       "      <td>5.0</td>\n",
       "      <td>NaN</td>\n",
       "    </tr>\n",
       "    <tr>\n",
       "      <th>3</th>\n",
       "      <td>21.0</td>\n",
       "      <td>7.0</td>\n",
       "      <td>5.0</td>\n",
       "      <td>NaN</td>\n",
       "    </tr>\n",
       "    <tr>\n",
       "      <th>4</th>\n",
       "      <td>24.0</td>\n",
       "      <td>9.0</td>\n",
       "      <td>6.0</td>\n",
       "      <td>NaN</td>\n",
       "    </tr>\n",
       "    <tr>\n",
       "      <th>5</th>\n",
       "      <td>28.0</td>\n",
       "      <td>10.0</td>\n",
       "      <td>7.0</td>\n",
       "      <td>NaN</td>\n",
       "    </tr>\n",
       "    <tr>\n",
       "      <th>6</th>\n",
       "      <td>33.0</td>\n",
       "      <td>12.0</td>\n",
       "      <td>8.0</td>\n",
       "      <td>NaN</td>\n",
       "    </tr>\n",
       "    <tr>\n",
       "      <th>7</th>\n",
       "      <td>38.0</td>\n",
       "      <td>13.0</td>\n",
       "      <td>10.0</td>\n",
       "      <td>NaN</td>\n",
       "    </tr>\n",
       "    <tr>\n",
       "      <th>8</th>\n",
       "      <td>45.0</td>\n",
       "      <td>16.0</td>\n",
       "      <td>11.0</td>\n",
       "      <td>NaN</td>\n",
       "    </tr>\n",
       "    <tr>\n",
       "      <th>9</th>\n",
       "      <td>52.0</td>\n",
       "      <td>18.0</td>\n",
       "      <td>13.0</td>\n",
       "      <td>NaN</td>\n",
       "    </tr>\n",
       "    <tr>\n",
       "      <th>10</th>\n",
       "      <td>60.0</td>\n",
       "      <td>21.0</td>\n",
       "      <td>15.0</td>\n",
       "      <td>NaN</td>\n",
       "    </tr>\n",
       "    <tr>\n",
       "      <th>11</th>\n",
       "      <td>70.0</td>\n",
       "      <td>24.0</td>\n",
       "      <td>17.0</td>\n",
       "      <td>NaN</td>\n",
       "    </tr>\n",
       "    <tr>\n",
       "      <th>12</th>\n",
       "      <td>82.0</td>\n",
       "      <td>28.0</td>\n",
       "      <td>20.0</td>\n",
       "      <td>NaN</td>\n",
       "    </tr>\n",
       "  </tbody>\n",
       "</table>\n",
       "</div>"
      ],
      "text/plain": [
       "     hospitalized   icu  ventilated  actual_hospitalized\n",
       "day                                                     \n",
       "-17           NaN   NaN         NaN                  NaN\n",
       "-16           1.0   1.0         1.0                  1.0\n",
       "-15           1.0   1.0         1.0                  1.0\n",
       "-14           1.0   1.0         1.0                  1.0\n",
       "-13           2.0   1.0         1.0                  1.0\n",
       "-12           2.0   1.0         1.0                  1.0\n",
       "-11           3.0   1.0         1.0                  2.0\n",
       "-10           3.0   1.0         1.0                  2.0\n",
       "-9            4.0   2.0         1.0                  2.0\n",
       "-8            4.0   2.0         1.0                  2.0\n",
       "-7            5.0   2.0         2.0                  4.0\n",
       "-6            6.0   2.0         2.0                  4.0\n",
       "-5            6.0   3.0         2.0                  7.0\n",
       "-4            7.0   3.0         2.0                  6.0\n",
       "-3            9.0   3.0         2.0                  8.0\n",
       "-2           10.0   4.0         3.0                 13.0\n",
       "-1           12.0   4.0         3.0                 13.0\n",
       " 0           13.0   5.0         4.0                 15.0\n",
       " 1           16.0   6.0         4.0                  NaN\n",
       " 2           18.0   6.0         5.0                  NaN\n",
       " 3           21.0   7.0         5.0                  NaN\n",
       " 4           24.0   9.0         6.0                  NaN\n",
       " 5           28.0  10.0         7.0                  NaN\n",
       " 6           33.0  12.0         8.0                  NaN\n",
       " 7           38.0  13.0        10.0                  NaN\n",
       " 8           45.0  16.0        11.0                  NaN\n",
       " 9           52.0  18.0        13.0                  NaN\n",
       " 10          60.0  21.0        15.0                  NaN\n",
       " 11          70.0  24.0        17.0                  NaN\n",
       " 12          82.0  28.0        20.0                  NaN"
      ]
     },
     "execution_count": 73,
     "metadata": {},
     "output_type": "execute_result"
    }
   ],
   "source": [
    "census_df.set_index('day').head(30)"
   ]
  },
  {
   "cell_type": "code",
   "execution_count": null,
   "metadata": {},
   "outputs": [],
   "source": []
  }
 ],
 "metadata": {
  "kernelspec": {
   "display_name": "Python 3",
   "language": "python",
   "name": "python3"
  },
  "language_info": {
   "codemirror_mode": {
    "name": "ipython",
    "version": 3
   },
   "file_extension": ".py",
   "mimetype": "text/x-python",
   "name": "python",
   "nbconvert_exporter": "python",
   "pygments_lexer": "ipython3",
   "version": "3.7.3"
  }
 },
 "nbformat": 4,
 "nbformat_minor": 2
}
